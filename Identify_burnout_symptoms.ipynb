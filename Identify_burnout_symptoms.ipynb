{
 "cells": [
  {
   "cell_type": "markdown",
   "metadata": {},
   "source": [
    "# Problem Statement:  Monitor the behavioural and personality traits of the employee to identify and predict the signs of burnout. Starting with the causes of burnout, it should be possible to predict burnout in the early stages."
   ]
  },
  {
   "cell_type": "code",
   "execution_count": 31,
   "metadata": {},
   "outputs": [
    {
     "ename": "SyntaxError",
     "evalue": "invalid syntax (<ipython-input-31-bf9e9e4cbc5f>, line 5)",
     "output_type": "error",
     "traceback": [
      "\u001b[1;36m  File \u001b[1;32m\"<ipython-input-31-bf9e9e4cbc5f>\"\u001b[1;36m, line \u001b[1;32m5\u001b[0m\n\u001b[1;33m    from sklearn\u001b[0m\n\u001b[1;37m                 ^\u001b[0m\n\u001b[1;31mSyntaxError\u001b[0m\u001b[1;31m:\u001b[0m invalid syntax\n"
     ]
    }
   ],
   "source": [
    "#importing files\n",
    "import matplotlib.pyplot as plt\n",
    "import numpy as mp\n",
    "import pandas as pd\n",
    "from sklearn \n",
    "import linear_model\n",
    "from sklearn.preprocessing \n",
    "import PolynomialFeatures \n",
    "from sklearn.model_selection \n",
    "import train_test_split\n",
    "from scipy import stats\n",
    "import seaborn as s"
   ]
  },
  {
   "cell_type": "code",
   "execution_count": 32,
   "metadata": {},
   "outputs": [
    {
     "data": {
      "text/html": [
       "<div>\n",
       "<style scoped>\n",
       "    .dataframe tbody tr th:only-of-type {\n",
       "        vertical-align: middle;\n",
       "    }\n",
       "\n",
       "    .dataframe tbody tr th {\n",
       "        vertical-align: top;\n",
       "    }\n",
       "\n",
       "    .dataframe thead th {\n",
       "        text-align: right;\n",
       "    }\n",
       "</style>\n",
       "<table border=\"1\" class=\"dataframe\">\n",
       "  <thead>\n",
       "    <tr style=\"text-align: right;\">\n",
       "      <th></th>\n",
       "      <th>Date of Joining</th>\n",
       "      <th>Gender</th>\n",
       "      <th>Company Type</th>\n",
       "      <th>WFH Setup Available</th>\n",
       "      <th>Designation</th>\n",
       "      <th>Resource Allocation</th>\n",
       "      <th>Mental Fatigue Score</th>\n",
       "      <th>Burn Rate</th>\n",
       "    </tr>\n",
       "    <tr>\n",
       "      <th>Employee ID</th>\n",
       "      <th></th>\n",
       "      <th></th>\n",
       "      <th></th>\n",
       "      <th></th>\n",
       "      <th></th>\n",
       "      <th></th>\n",
       "      <th></th>\n",
       "      <th></th>\n",
       "    </tr>\n",
       "  </thead>\n",
       "  <tbody>\n",
       "    <tr>\n",
       "      <th>fffe32003000360033003200</th>\n",
       "      <td>2008-09-30</td>\n",
       "      <td>Female</td>\n",
       "      <td>Service</td>\n",
       "      <td>No</td>\n",
       "      <td>2.0</td>\n",
       "      <td>3.0</td>\n",
       "      <td>3.8</td>\n",
       "      <td>0.16</td>\n",
       "    </tr>\n",
       "    <tr>\n",
       "      <th>fffe3700360033003500</th>\n",
       "      <td>2008-11-30</td>\n",
       "      <td>Male</td>\n",
       "      <td>Service</td>\n",
       "      <td>Yes</td>\n",
       "      <td>1.0</td>\n",
       "      <td>2.0</td>\n",
       "      <td>5.0</td>\n",
       "      <td>0.36</td>\n",
       "    </tr>\n",
       "    <tr>\n",
       "      <th>fffe31003300320037003900</th>\n",
       "      <td>2008-03-10</td>\n",
       "      <td>Female</td>\n",
       "      <td>Product</td>\n",
       "      <td>Yes</td>\n",
       "      <td>2.0</td>\n",
       "      <td>NaN</td>\n",
       "      <td>5.8</td>\n",
       "      <td>0.49</td>\n",
       "    </tr>\n",
       "    <tr>\n",
       "      <th>fffe32003400380032003900</th>\n",
       "      <td>2008-11-03</td>\n",
       "      <td>Male</td>\n",
       "      <td>Service</td>\n",
       "      <td>Yes</td>\n",
       "      <td>1.0</td>\n",
       "      <td>1.0</td>\n",
       "      <td>2.6</td>\n",
       "      <td>0.20</td>\n",
       "    </tr>\n",
       "    <tr>\n",
       "      <th>fffe31003900340031003600</th>\n",
       "      <td>2008-07-24</td>\n",
       "      <td>Female</td>\n",
       "      <td>Service</td>\n",
       "      <td>No</td>\n",
       "      <td>3.0</td>\n",
       "      <td>7.0</td>\n",
       "      <td>6.9</td>\n",
       "      <td>0.52</td>\n",
       "    </tr>\n",
       "  </tbody>\n",
       "</table>\n",
       "</div>"
      ],
      "text/plain": [
       "                         Date of Joining  Gender Company Type  \\\n",
       "Employee ID                                                     \n",
       "fffe32003000360033003200      2008-09-30  Female      Service   \n",
       "fffe3700360033003500          2008-11-30    Male      Service   \n",
       "fffe31003300320037003900      2008-03-10  Female      Product   \n",
       "fffe32003400380032003900      2008-11-03    Male      Service   \n",
       "fffe31003900340031003600      2008-07-24  Female      Service   \n",
       "\n",
       "                         WFH Setup Available  Designation  \\\n",
       "Employee ID                                                 \n",
       "fffe32003000360033003200                  No          2.0   \n",
       "fffe3700360033003500                     Yes          1.0   \n",
       "fffe31003300320037003900                 Yes          2.0   \n",
       "fffe32003400380032003900                 Yes          1.0   \n",
       "fffe31003900340031003600                  No          3.0   \n",
       "\n",
       "                          Resource Allocation  Mental Fatigue Score  Burn Rate  \n",
       "Employee ID                                                                     \n",
       "fffe32003000360033003200                  3.0                   3.8       0.16  \n",
       "fffe3700360033003500                      2.0                   5.0       0.36  \n",
       "fffe31003300320037003900                  NaN                   5.8       0.49  \n",
       "fffe32003400380032003900                  1.0                   2.6       0.20  \n",
       "fffe31003900340031003600                  7.0                   6.9       0.52  "
      ]
     },
     "execution_count": 32,
     "metadata": {},
     "output_type": "execute_result"
    }
   ],
   "source": [
    "#DATA COLLECTION\n",
    "df_full = pd.read_csv(r\"C:\\Users\\ritik\\Downloads\\train.csv\",index_col='Employee ID')\n",
    "df_test = pd.read_csv(r\"C:\\Users\\ritik\\Downloads\\test.csv\",index_col='Employee ID')\n",
    "df_full.head()"
   ]
  },
  {
   "cell_type": "code",
   "execution_count": 33,
   "metadata": {},
   "outputs": [
    {
     "data": {
      "text/plain": [
       "Date of Joining          object\n",
       "Gender                   object\n",
       "Company Type             object\n",
       "WFH Setup Available      object\n",
       "Designation             float64\n",
       "Resource Allocation     float64\n",
       "Mental Fatigue Score    float64\n",
       "Burn Rate               float64\n",
       "dtype: object"
      ]
     },
     "execution_count": 33,
     "metadata": {},
     "output_type": "execute_result"
    }
   ],
   "source": [
    "df_full.dtypes"
   ]
  },
  {
   "cell_type": "code",
   "execution_count": 34,
   "metadata": {
    "scrolled": true
   },
   "outputs": [],
   "source": [
    "#data of joining\n",
    "df_full['Date of Joining'] = pd.to_datetime(df_full['Date of Joining'])\n",
    "df_test['Date of Joining'] = pd.to_datetime(df_test['Date of Joining'])\n",
    "\n",
    "#gender \n",
    "gender = { 'Female': 0 , 'Male': 1 }\n",
    "df_full['Gender'] = [gender[j] for j in  df_full['Gender']]\n",
    "df_test['Gender'] = [gender[j] for j in  df_test['Gender']] \n",
    "\n",
    "#company type\n",
    "company_type = {'Service': 0 , 'Product': 1}\n",
    "df_full['Company Type'] = [company_type[j] for j in  df_full['Company Type']]\n",
    "df_test['Company Type'] = [company_type[j] for j in  df_test['Company Type']]\n"
   ]
  },
  {
   "cell_type": "code",
   "execution_count": null,
   "metadata": {},
   "outputs": [],
   "source": [
    "\n"
   ]
  },
  {
   "cell_type": "code",
   "execution_count": null,
   "metadata": {},
   "outputs": [],
   "source": []
  }
 ],
 "metadata": {
  "kernelspec": {
   "display_name": "Python 3",
   "language": "python",
   "name": "python3"
  },
  "language_info": {
   "codemirror_mode": {
    "name": "ipython",
    "version": 3
   },
   "file_extension": ".py",
   "mimetype": "text/x-python",
   "name": "python",
   "nbconvert_exporter": "python",
   "pygments_lexer": "ipython3",
   "version": "3.7.6"
  }
 },
 "nbformat": 4,
 "nbformat_minor": 4
}
